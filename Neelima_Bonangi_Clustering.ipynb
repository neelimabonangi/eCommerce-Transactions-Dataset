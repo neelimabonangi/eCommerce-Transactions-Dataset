{
 "cells": [
  {
   "cell_type": "code",
   "execution_count": 1,
   "id": "0318566d-46ea-4996-a0b8-b0ad9cb664a7",
   "metadata": {},
   "outputs": [],
   "source": [
    "# Step 1: Import Required Libraries\n",
    "\n",
    "import pandas as pd\n",
    "import numpy as np\n",
    "import matplotlib.pyplot as plt\n",
    "import seaborn as sns\n",
    "from sklearn.preprocessing import StandardScaler\n",
    "from sklearn.cluster import KMeans\n",
    "from sklearn.metrics import davies_bouldin_score\n",
    "from sklearn.decomposition import PCA"
   ]
  },
  {
   "cell_type": "code",
   "execution_count": 2,
   "id": "40fe0226-e03a-4133-b138-173060f3dc69",
   "metadata": {},
   "outputs": [],
   "source": [
    "# step 2: Load the datasets\n",
    "\n",
    "customers = pd.read_csv(r\"C:\\Users\\USER\\Downloads\\Customers.csv\")\n",
    "transactions = pd.read_csv(r\"C:\\Users\\USER\\Downloads\\Transactions.csv\")\n"
   ]
  },
  {
   "cell_type": "code",
   "execution_count": 3,
   "id": "2af8607d-f8d9-435a-9bb0-9c3db7864288",
   "metadata": {},
   "outputs": [
    {
     "name": "stdout",
     "output_type": "stream",
     "text": [
      "  CustomerID        CustomerName         Region  SignupDate\n",
      "0      C0001    Lawrence Carroll  South America  2022-07-10\n",
      "1      C0002      Elizabeth Lutz           Asia  2022-02-13\n",
      "2      C0003      Michael Rivera  South America  2024-03-07\n",
      "3      C0004  Kathleen Rodriguez  South America  2022-10-09\n",
      "4      C0005         Laura Weber           Asia  2022-08-15\n",
      "  TransactionID CustomerID ProductID      TransactionDate  Quantity  \\\n",
      "0        T00001      C0199      P067  2024-08-25 12:38:23         1   \n",
      "1        T00112      C0146      P067  2024-05-27 22:23:54         1   \n",
      "2        T00166      C0127      P067  2024-04-25 07:38:55         1   \n",
      "3        T00272      C0087      P067  2024-03-26 22:55:37         2   \n",
      "4        T00363      C0070      P067  2024-03-21 15:10:10         3   \n",
      "\n",
      "   TotalValue   Price  \n",
      "0      300.68  300.68  \n",
      "1      300.68  300.68  \n",
      "2      300.68  300.68  \n",
      "3      601.36  300.68  \n",
      "4      902.04  300.68  \n"
     ]
    }
   ],
   "source": [
    "# Preview the datasets\n",
    "print(customers.head())\n",
    "print(transactions.head())"
   ]
  },
  {
   "cell_type": "code",
   "execution_count": 4,
   "id": "68fdbab9-2ae4-4ef5-84fb-8c0f227050a6",
   "metadata": {},
   "outputs": [],
   "source": [
    "# Step 3: Data Preprocessing\n",
    "\n",
    "# Handle Missing Values:\n",
    "customers.dropna(inplace=True)\n",
    "transactions.dropna(inplace=True)\n"
   ]
  },
  {
   "cell_type": "code",
   "execution_count": 5,
   "id": "90d962a4-056e-4705-bd6a-5254a44ececf",
   "metadata": {},
   "outputs": [
    {
     "name": "stdout",
     "output_type": "stream",
     "text": [
      "  CustomerID      CustomerName         Region  SignupDate TransactionID  \\\n",
      "0      C0001  Lawrence Carroll  South America  2022-07-10        T00015   \n",
      "1      C0001  Lawrence Carroll  South America  2022-07-10        T00932   \n",
      "2      C0001  Lawrence Carroll  South America  2022-07-10        T00085   \n",
      "3      C0001  Lawrence Carroll  South America  2022-07-10        T00445   \n",
      "4      C0001  Lawrence Carroll  South America  2022-07-10        T00436   \n",
      "\n",
      "  ProductID      TransactionDate  Quantity  TotalValue   Price  \n",
      "0      P054  2024-01-19 03:12:55         2      114.60   57.30  \n",
      "1      P022  2024-09-17 09:01:18         3      412.62  137.54  \n",
      "2      P096  2024-04-08 00:01:00         2      614.94  307.47  \n",
      "3      P083  2024-05-07 03:11:44         2      911.44  455.72  \n",
      "4      P029  2024-11-02 17:04:16         3     1300.92  433.64  \n"
     ]
    }
   ],
   "source": [
    "# Merge Datasets: \n",
    "customer_transactions = pd.merge(customers, transactions, on=\"CustomerID\")\n",
    "print(customer_transactions.head())\n"
   ]
  },
  {
   "cell_type": "code",
   "execution_count": 6,
   "id": "85f8378f-b502-4a4d-8f99-90f456ce352d",
   "metadata": {},
   "outputs": [
    {
     "name": "stdout",
     "output_type": "stream",
     "text": [
      "Index(['CustomerID', 'CustomerName', 'Region', 'SignupDate', 'TransactionID',\n",
      "       'ProductID', 'TransactionDate', 'Quantity', 'TotalValue', 'Price'],\n",
      "      dtype='object')\n"
     ]
    }
   ],
   "source": [
    "print(customer_transactions.columns)"
   ]
  },
  {
   "cell_type": "code",
   "execution_count": 7,
   "id": "2a626e8d-4604-4187-bba0-a00e6fd2af34",
   "metadata": {},
   "outputs": [
    {
     "name": "stdout",
     "output_type": "stream",
     "text": [
      "  CustomerID  TransactionCount  UniqueProducts\n",
      "0      C0001                 5               5\n",
      "1      C0002                 4               4\n",
      "2      C0003                 4               4\n",
      "3      C0004                 8               8\n",
      "4      C0005                 3               3\n"
     ]
    }
   ],
   "source": [
    "# Feature Engineering:\n",
    "\n",
    "customer_summary = customer_transactions.groupby(\"CustomerID\").agg({\n",
    "    \"TransactionID\": \"count\",  # Total transactions per customer\n",
    "    \"ProductID\": \"nunique\",    # Unique products purchased per customer\n",
    "}).reset_index()\n",
    "\n",
    "# Rename columns for clarity\n",
    "customer_summary.rename(columns={\n",
    "    \"TransactionID\": \"TransactionCount\", \n",
    "    \"ProductID\": \"UniqueProducts\"\n",
    "}, inplace=True)\n",
    "\n",
    "print(customer_summary.head())\n"
   ]
  },
  {
   "cell_type": "code",
   "execution_count": 8,
   "id": "067cb539-745e-45d1-919b-a9e31f5eb9d4",
   "metadata": {},
   "outputs": [
    {
     "name": "stdout",
     "output_type": "stream",
     "text": [
      "Index(['CustomerID', 'CustomerName', 'Region', 'SignupDate', 'TransactionID',\n",
      "       'ProductID', 'TransactionDate', 'Quantity', 'TotalValue', 'Price'],\n",
      "      dtype='object')\n",
      "    CustomerID  TotalAmount  TransactionCount  UniqueProducts\n",
      "0        C0001      3354.52                 5               5\n",
      "1        C0002      1862.74                 4               4\n",
      "2        C0003      2725.38                 4               4\n",
      "3        C0004      5354.88                 8               8\n",
      "4        C0005      2034.24                 3               3\n",
      "..         ...          ...               ...             ...\n",
      "194      C0196      4982.88                 4               3\n",
      "195      C0197      1928.65                 3               3\n",
      "196      C0198       931.83                 2               2\n",
      "197      C0199      1979.28                 4               4\n",
      "198      C0200      4758.60                 5               5\n",
      "\n",
      "[199 rows x 4 columns]\n"
     ]
    }
   ],
   "source": [
    "# Check column names first\n",
    "print(customer_transactions.columns)\n",
    "\n",
    "# Add the 'Amount' column if necessary\n",
    "if 'Amount' not in customer_transactions.columns:\n",
    "    if 'Quantity' in customer_transactions.columns and 'Price' in customer_transactions.columns:\n",
    "        customer_transactions['Amount'] = customer_transactions['Quantity'] * customer_transactions['Price']\n",
    "    else:\n",
    "        raise ValueError(\"Required columns ('Quantity' and 'Price') are missing to calculate 'Amount'.\")\n",
    "\n",
    "# Proceed with the aggregation\n",
    "customer_summary = customer_transactions.groupby(\"CustomerID\").agg({\n",
    "    \"Amount\": \"sum\",   # Total transaction amount\n",
    "    \"TransactionID\": \"count\",  # Total transactions\n",
    "    \"ProductID\": \"nunique\",   # Unique products purchased\n",
    "}).reset_index()\n",
    "\n",
    "# Rename columns for clarity\n",
    "customer_summary.rename(columns={\"Amount\": \"TotalAmount\", \"TransactionID\": \"TransactionCount\", \"ProductID\": \"UniqueProducts\"}, inplace=True)\n",
    "\n",
    "print(customer_summary)\n",
    "\n"
   ]
  },
  {
   "cell_type": "code",
   "execution_count": 9,
   "id": "f45633ab-99fd-483b-8ec4-1d7d3d97abe1",
   "metadata": {},
   "outputs": [],
   "source": [
    "# Standardize the Data: \n",
    "scaler = StandardScaler()\n",
    "scaled_data = scaler.fit_transform(customer_summary.iloc[:, 1:])  # Exclude CustomerID\n"
   ]
  },
  {
   "cell_type": "code",
   "execution_count": 27,
   "id": "eadfb19d-664a-41d9-b19b-03e470f76160",
   "metadata": {},
   "outputs": [
    {
     "name": "stdout",
     "output_type": "stream",
     "text": [
      "Clusters: 2, DB Index: 0.7326724318621637\n",
      "Clusters: 3, DB Index: 0.7636341768660931\n",
      "Clusters: 4, DB Index: 0.9182221873822776\n",
      "Clusters: 5, DB Index: 0.9245800474301245\n",
      "Clusters: 6, DB Index: 0.8151985435582336\n",
      "Clusters: 7, DB Index: 0.8449538978125013\n",
      "Clusters: 8, DB Index: 0.854697191808881\n",
      "Clusters: 9, DB Index: 0.8094221291806367\n",
      "Clusters: 10, DB Index: 0.8659344328651486\n"
     ]
    }
   ],
   "source": [
    "# step 4: Perform Clustering\n",
    "\n",
    "# Choose a Clustering Algorithm: For this, we use KMeans clustering.\n",
    "kmeans_models = {}\n",
    "db_scores = []\n",
    "for k in range(2, 11):  # Testing for clusters between 2 and 10\n",
    "    kmeans = KMeans(n_clusters=k, random_state=42)\n",
    "    kmeans.fit(scaled_data)\n",
    "    kmeans_models[k] = kmeans\n",
    "    \n",
    "    # Calculate Davies-Bouldin Index\n",
    "    db_score = davies_bouldin_score(scaled_data, kmeans.labels_)\n",
    "    db_scores.append((k, db_score))\n",
    "    print(f\"Clusters: {k}, DB Index: {db_score}\")\n"
   ]
  },
  {
   "cell_type": "code",
   "execution_count": 11,
   "id": "8c223874-f735-4f58-b112-2f80651505b7",
   "metadata": {},
   "outputs": [
    {
     "data": {
      "image/png": "[encoded data removed]",
      "text/plain": [
       "<Figure size 640x480 with 1 Axes>"
      ]
     },
     "metadata": {},
     "output_type": "display_data"
    }
   ],
   "source": [
    "# Select the Optimal Number of Clusters:Visualize the Davies-Bouldin Index to determine the optimal number of clusters.\n",
    "\n",
    "db_df = pd.DataFrame(db_scores, columns=[\"Clusters\", \"DB_Index\"])\n",
    "sns.lineplot(x=\"Clusters\", y=\"DB_Index\", data=db_df)\n",
    "plt.title(\"Davies-Bouldin Index vs. Number of Clusters\")\n",
    "plt.show()\n"
   ]
  },
  {
   "cell_type": "code",
   "execution_count": 12,
   "id": "0fac2d5f-fbc1-4d76-8c5e-285540f01d10",
   "metadata": {},
   "outputs": [
    {
     "name": "stdout",
     "output_type": "stream",
     "text": [
      "Requirement already satisfied: scikit-learn in c:\\users\\user\\anaconda3\\lib\\site-packages (1.6.1)\n",
      "Requirement already satisfied: numpy>=1.19.5 in c:\\users\\user\\anaconda3\\lib\\site-packages (from scikit-learn) (1.26.4)\n",
      "Requirement already satisfied: scipy>=1.6.0 in c:\\users\\user\\anaconda3\\lib\\site-packages (from scikit-learn) (1.13.1)\n",
      "Requirement already satisfied: joblib>=1.2.0 in c:\\users\\user\\anaconda3\\lib\\site-packages (from scikit-learn) (1.4.2)\n",
      "Requirement already satisfied: threadpoolctl>=3.1.0 in c:\\users\\user\\anaconda3\\lib\\site-packages (from scikit-learn) (3.5.0)\n",
      "Note: you may need to restart the kernel to use updated packages.\n"
     ]
    }
   ],
   "source": [
    "pip install -U scikit-learn\n"
   ]
  },
  {
   "cell_type": "code",
   "execution_count": 13,
   "id": "d8966bb7-d4dc-4e2f-adf7-9928d01398eb",
   "metadata": {},
   "outputs": [],
   "source": [
    "import os\n",
    "os.environ[\"OMP_NUM_THREADS\"] = \"1\"\n",
    "\n",
    "# Your other imports here\n",
    "from sklearn.cluster import KMeans\n",
    "# Rest of your code\n"
   ]
  },
  {
   "cell_type": "code",
   "execution_count": 14,
   "id": "bdceabf7-9cd8-4cb1-900c-43b175fa51d4",
   "metadata": {},
   "outputs": [
    {
     "name": "stdout",
     "output_type": "stream",
     "text": [
      "OMP_NUM_THREADS is set to: 1\n"
     ]
    }
   ],
   "source": [
    "import os\n",
    "os.environ[\"OMP_NUM_THREADS\"] = \"1\"  # Set the environment variable\n",
    "print(\"OMP_NUM_THREADS is set to:\", os.environ.get(\"OMP_NUM_THREADS\"))\n"
   ]
  },
  {
   "cell_type": "code",
   "execution_count": 25,
   "id": "73a93e9d-06cb-42cb-acc8-7ee1ac1836a5",
   "metadata": {},
   "outputs": [],
   "source": [
    "import warnings\n",
    "warnings.filterwarnings(\"ignore\", category=UserWarning, module=\"sklearn\")\n"
   ]
  },
  {
   "cell_type": "code",
   "execution_count": 16,
   "id": "cbc61d10-6920-4b76-a217-12bacc98ceb7",
   "metadata": {},
   "outputs": [],
   "source": [
    "# Run Clustering with Optimal k:\n",
    "\n",
    "optimal_k = db_df.loc[db_df[\"DB_Index\"].idxmin(), \"Clusters\"]\n",
    "final_kmeans = kmeans_models[optimal_k]\n",
    "customer_summary[\"Cluster\"] = final_kmeans.labels_\n"
   ]
  },
  {
   "cell_type": "code",
   "execution_count": 33,
   "id": "259b3d15-2ea1-490a-9301-c3d4d99d15e7",
   "metadata": {},
   "outputs": [
    {
     "data": {
      "image/png": "[encoded data removed]",
      "text/plain": [
       "<Figure size 1000x700 with 1 Axes>"
      ]
     },
     "metadata": {},
     "output_type": "display_data"
    }
   ],
   "source": [
    "# step 5:  Visualize the Clusters:\n",
    "\n",
    "# 1.Reduce Dimensions with PCA (for visualization):\n",
    "\n",
    "pca = PCA(n_components=2)\n",
    "pca_data = pca.fit_transform(scaled_data)\n",
    "\n",
    "plt.figure(figsize=(10, 7))\n",
    "sns.scatterplot(x=pca_data[:, 0], y=pca_data[:, 1], hue=customer_summary[\"Cluster\"], palette=\"tab10\", s=100)\n",
    "plt.title(\"Customer Clusters\")\n",
    "plt.xlabel(\"PCA Component 1\")\n",
    "plt.ylabel(\"PCA Component 2\")\n",
    "plt.legend(title=\"Cluster\")\n",
    "plt.show()"
   ]
  },
  {
   "cell_type": "code",
   "execution_count": 59,
   "id": "828a4824-295d-4c6f-8e68-8ff32fcbc16b",
   "metadata": {},
   "outputs": [
    {
     "name": "stdout",
     "output_type": "stream",
     "text": [
      "  CustomerID  TransactionCount  UniqueProducts\n",
      "0      C0001                 5               5\n",
      "1      C0002                 4               4\n",
      "2      C0003                 4               4\n",
      "3      C0004                 8               8\n",
      "4      C0005                 3               3\n"
     ]
    }
   ],
   "source": [
    "customer_summary = customer_transactions.groupby('CustomerID').agg({\n",
    "    'TransactionID': 'count',  # Total number of transactions per customer\n",
    "    'ProductID': 'nunique'     # Number of unique products purchased\n",
    "}).reset_index()\n",
    "\n",
    "# Rename columns for clarity\n",
    "customer_summary.rename(columns={\n",
    "    'TransactionID': 'TransactionCount',\n",
    "    'ProductID': 'UniqueProducts'\n",
    "}, inplace=True)\n",
    "\n",
    "print(customer_summary.head())\n"
   ]
  },
  {
   "cell_type": "code",
   "execution_count": 63,
   "id": "fd9ec444-0365-409e-b46b-9c39e667859f",
   "metadata": {},
   "outputs": [
    {
     "name": "stdout",
     "output_type": "stream",
     "text": [
      "  CustomerID  TransactionCount  UniqueProducts  Cluster\n",
      "0      C0001                 5               5        1\n",
      "1      C0002                 4               4        1\n",
      "2      C0003                 4               4        1\n",
      "3      C0004                 8               8        0\n",
      "4      C0005                 3               3        1\n"
     ]
    }
   ],
   "source": [
    "features = customer_summary[['TransactionCount', 'UniqueProducts']]\n",
    "from sklearn.preprocessing import StandardScaler\n",
    "from sklearn.cluster import KMeans\n",
    "\n",
    "# Standardize features\n",
    "scaler = StandardScaler()\n",
    "scaled_features = scaler.fit_transform(features)\n",
    "\n",
    "# Apply KMeans clustering\n",
    "kmeans = KMeans(n_clusters=4, random_state=42)\n",
    "customer_summary['Cluster'] = kmeans.fit_predict(scaled_features)\n",
    "\n",
    "print(customer_summary.head())\n"
   ]
  },
  {
   "cell_type": "code",
   "execution_count": 67,
   "id": "6c044a8b-232a-4658-adc6-0d6942aa21c1",
   "metadata": {},
   "outputs": [
    {
     "name": "stdout",
     "output_type": "stream",
     "text": [
      "CustomerID          object\n",
      "CustomerName        object\n",
      "Region              object\n",
      "SignupDate          object\n",
      "TransactionID       object\n",
      "ProductID           object\n",
      "TransactionDate     object\n",
      "Quantity             int64\n",
      "TotalValue         float64\n",
      "Price              float64\n",
      "Amount             float64\n",
      "dtype: object\n"
     ]
    }
   ],
   "source": [
    "print(customer_transactions.dtypes)\n"
   ]
  },
  {
   "cell_type": "code",
   "execution_count": 69,
   "id": "f97369e3-82b6-4a55-b5a7-a2320655dc8e",
   "metadata": {},
   "outputs": [],
   "source": [
    "# Convert columns to numeric if necessary\n",
    "customer_transactions['TransactionID'] = pd.to_numeric(customer_transactions['TransactionID'], errors='coerce')\n",
    "customer_transactions['ProductID'] = pd.to_numeric(customer_transactions['ProductID'], errors='coerce')\n",
    "\n",
    "# Drop rows with invalid data\n",
    "customer_transactions.dropna(subset=['TransactionID', 'ProductID'], inplace=True)\n"
   ]
  },
  {
   "cell_type": "code",
   "execution_count": 71,
   "id": "02f994e9-a2d0-4475-ae79-fe1c0995a71b",
   "metadata": {},
   "outputs": [
    {
     "name": "stdout",
     "output_type": "stream",
     "text": [
      "Empty DataFrame\n",
      "Columns: [CustomerID, TransactionCount, UniqueProducts]\n",
      "Index: []\n"
     ]
    }
   ],
   "source": [
    "customer_summary = customer_transactions.groupby('CustomerID').agg({\n",
    "    'TransactionID': 'count',  # Total transactions\n",
    "    'ProductID': 'nunique'     # Unique products\n",
    "}).reset_index()\n",
    "\n",
    "# Rename columns for clarity\n",
    "customer_summary.rename(columns={\n",
    "    'TransactionID': 'TransactionCount',\n",
    "    'ProductID': 'UniqueProducts'\n",
    "}, inplace=True)\n",
    "\n",
    "print(customer_summary.head())\n"
   ]
  },
  {
   "cell_type": "code",
   "execution_count": 73,
   "id": "e4e4c573-9545-4f32-af58-6bb0ab4090da",
   "metadata": {},
   "outputs": [
    {
     "name": "stdout",
     "output_type": "stream",
     "text": [
      "CustomerID          object\n",
      "TransactionCount     int64\n",
      "UniqueProducts       int64\n",
      "dtype: object\n"
     ]
    }
   ],
   "source": [
    "print(customer_summary.dtypes)\n"
   ]
  },
  {
   "cell_type": "code",
   "execution_count": 79,
   "id": "c8f1e1aa-8298-4918-bfe5-9339b8947642",
   "metadata": {},
   "outputs": [
    {
     "name": "stdout",
     "output_type": "stream",
     "text": [
      "Index(['CustomerID', 'TransactionCount', 'UniqueProducts'], dtype='object')\n"
     ]
    }
   ],
   "source": [
    "print(customer_summary.columns)\n"
   ]
  },
  {
   "cell_type": "code",
   "execution_count": 81,
   "id": "ddaf1d35-f405-426f-a894-f663fc47172e",
   "metadata": {},
   "outputs": [
    {
     "name": "stdout",
     "output_type": "stream",
     "text": [
      "TransactionCount    0\n",
      "UniqueProducts      0\n",
      "dtype: int64\n"
     ]
    }
   ],
   "source": [
    "print(customer_summary[['TransactionCount', 'UniqueProducts']].isna().sum())\n"
   ]
  },
  {
   "cell_type": "code",
   "execution_count": 83,
   "id": "a6261fc6-8c38-4fe2-9c81-6ffdfe63f403",
   "metadata": {},
   "outputs": [
    {
     "name": "stdout",
     "output_type": "stream",
     "text": [
      "(0, 3)\n",
      "Empty DataFrame\n",
      "Columns: [CustomerID, TransactionCount, UniqueProducts]\n",
      "Index: []\n"
     ]
    }
   ],
   "source": [
    "print(customer_summary.shape)\n",
    "print(customer_summary.head())\n"
   ]
  },
  {
   "cell_type": "code",
   "execution_count": 85,
   "id": "22fc74f5-f283-4408-be43-54045369357c",
   "metadata": {},
   "outputs": [
    {
     "name": "stdout",
     "output_type": "stream",
     "text": [
      "(0, 2)\n"
     ]
    }
   ],
   "source": [
    "features = customer_summary[['TransactionCount', 'UniqueProducts']]\n",
    "print(features.shape)\n"
   ]
  },
  {
   "cell_type": "code",
   "execution_count": 87,
   "id": "03b99fcc-8684-4749-b867-97fc9da48409",
   "metadata": {},
   "outputs": [
    {
     "name": "stdout",
     "output_type": "stream",
     "text": [
      "No data available for scaling.\n"
     ]
    }
   ],
   "source": [
    "from sklearn.preprocessing import StandardScaler\n",
    "\n",
    "if not features.empty:\n",
    "    scaler = StandardScaler()\n",
    "    scaled_features = scaler.fit_transform(features)\n",
    "else:\n",
    "    print(\"No data available for scaling.\")\n"
   ]
  },
  {
   "cell_type": "code",
   "execution_count": 89,
   "id": "1178eb05-c0d9-4c93-b95d-e08bf25ef574",
   "metadata": {},
   "outputs": [
    {
     "name": "stdout",
     "output_type": "stream",
     "text": [
      "TransactionCount    0\n",
      "UniqueProducts      0\n",
      "dtype: int64\n",
      "No data available for clustering.\n"
     ]
    }
   ],
   "source": [
    "# Select the required columns\n",
    "features = customer_summary[['TransactionCount', 'UniqueProducts']]\n",
    "\n",
    "# Check for missing values\n",
    "print(features.isna().sum())\n",
    "\n",
    "# Drop rows with missing values\n",
    "features = features.dropna()\n",
    "\n",
    "# Check if there is any data left\n",
    "if features.empty:\n",
    "    print(\"No data available for clustering.\")\n",
    "else:\n",
    "    print(\"Data is ready for scaling and clustering.\")\n"
   ]
  },
  {
   "cell_type": "code",
   "execution_count": 91,
   "id": "f21d626c-8efa-48f2-843b-dc77a3db6f76",
   "metadata": {},
   "outputs": [
    {
     "name": "stdout",
     "output_type": "stream",
     "text": [
      "TransactionCount    int64\n",
      "UniqueProducts      int64\n",
      "dtype: object\n"
     ]
    }
   ],
   "source": [
    "print(features.dtypes)\n"
   ]
  },
  {
   "cell_type": "code",
   "execution_count": 93,
   "id": "9a986020-58e7-40a6-8c87-5a47efab823e",
   "metadata": {},
   "outputs": [],
   "source": [
    "features['TransactionCount'] = pd.to_numeric(features['TransactionCount'], errors='coerce')\n",
    "features['UniqueProducts'] = pd.to_numeric(features['UniqueProducts'], errors='coerce')\n"
   ]
  },
  {
   "cell_type": "code",
   "execution_count": 97,
   "id": "5ce954c9-7137-490b-bdef-772ff1d332d3",
   "metadata": {},
   "outputs": [],
   "source": [
    "features.fillna(0, inplace=True)\n"
   ]
  },
  {
   "cell_type": "code",
   "execution_count": 99,
   "id": "6eb44c11-222c-42f4-9096-b3781e17244b",
   "metadata": {},
   "outputs": [],
   "source": [
    "features.fillna(features.mean(), inplace=True)\n"
   ]
  },
  {
   "cell_type": "code",
   "execution_count": 101,
   "id": "0f020282-04b1-4441-b5fa-a85959325d7f",
   "metadata": {},
   "outputs": [],
   "source": [
    "features.fillna(features.median(), inplace=True)\n"
   ]
  },
  {
   "cell_type": "code",
   "execution_count": 105,
   "id": "9fc0843d-ec9c-414a-a2e3-166f0a9c1260",
   "metadata": {},
   "outputs": [
    {
     "name": "stdout",
     "output_type": "stream",
     "text": [
      "TransactionCount    0\n",
      "UniqueProducts      0\n",
      "dtype: int64\n",
      "TransactionCount    0\n",
      "UniqueProducts      0\n",
      "dtype: int64\n"
     ]
    }
   ],
   "source": [
    "# Check for missing values\n",
    "print(features.isna().sum())\n",
    "\n",
    "# Fill missing values\n",
    "features.ffill(inplace=True)  # Forward fill\n",
    "features.bfill(inplace=True)  # Backward fill\n",
    "\n",
    "# Verify no missing values remain\n",
    "print(features.isna().sum())\n",
    "\n"
   ]
  },
  {
   "cell_type": "code",
   "execution_count": 107,
   "id": "9faaee34-da91-4d67-ac69-b5ffc1fc4bc4",
   "metadata": {},
   "outputs": [],
   "source": [
    "# adding values to Dataframe\n",
    "data = {\n",
    "    'CustomerID': [1, 2, 3, 4],\n",
    "    'TransactionCount': [10, 20, 15, 30],\n",
    "    'UniqueProducts': [5, 7, 6, 8]\n",
    "}\n",
    "df = pd.DataFrame(data)\n",
    "\n",
    "# Select features for clustering\n",
    "features = df[['TransactionCount', 'UniqueProducts']]"
   ]
  },
  {
   "cell_type": "code",
   "execution_count": 109,
   "id": "ff0e0454-144e-4969-9e44-f8f5f2757429",
   "metadata": {},
   "outputs": [],
   "source": [
    "# Standardize the features\n",
    "scaler = StandardScaler()\n",
    "scaled_features = scaler.fit_transform(features)\n"
   ]
  },
  {
   "cell_type": "code",
   "execution_count": 111,
   "id": "e0b6de07-9d64-42fc-a809-b8845d47d52e",
   "metadata": {},
   "outputs": [],
   "source": [
    "# Apply KMeans clustering\n",
    "kmeans = KMeans(n_clusters=2, random_state=42)  # Example: 2 clusters\n",
    "df['Cluster'] = kmeans.fit_predict(scaled_features)\n"
   ]
  },
  {
   "cell_type": "code",
   "execution_count": 113,
   "id": "845f4958-426a-4867-a5a9-9a04a501b1b9",
   "metadata": {},
   "outputs": [
    {
     "name": "stdout",
     "output_type": "stream",
     "text": [
      "   CustomerID  TransactionCount  UniqueProducts  Cluster\n",
      "0           1                10               5        0\n",
      "1           2                20               7        0\n",
      "2           3                15               6        0\n",
      "3           4                30               8        1\n"
     ]
    }
   ],
   "source": [
    "# Check Updated DataFrame\n",
    "print(df)"
   ]
  },
  {
   "cell_type": "code",
   "execution_count": 117,
   "id": "c951b822-e4f6-4c14-aa70-03d8385db9ac",
   "metadata": {},
   "outputs": [
    {
     "name": "stdout",
     "output_type": "stream",
     "text": [
      "         CustomerID  TransactionCount  UniqueProducts\n",
      "Cluster                                              \n",
      "0               2.0              15.0             6.0\n",
      "1               4.0              30.0             8.0\n"
     ]
    }
   ],
   "source": [
    "# Analyze the clusters\n",
    "cluster_analysis = df.groupby('Cluster').mean()\n",
    "print(cluster_analysis)\n"
   ]
  },
  {
   "cell_type": "code",
   "execution_count": 119,
   "id": "4804ac64-4a55-40e2-9faf-f426d1d9d634",
   "metadata": {},
   "outputs": [],
   "source": [
    "# step 6: Save Results\n",
    "\n",
    "customer_summary.to_csv(\"Customer_Clusters.csv\", index=False)\n",
    "\n",
    "# Save Davies-Bouldin Index for all cluster sizes\n",
    "db_df.to_csv(\"DB_Index_Results.csv\", index=False)\n"
   ]
  }
 ],
 "metadata": {
  "kernelspec": {
   "display_name": "Python 3 (ipykernel)",
   "language": "python",
   "name": "python3"
  },
  "language_info": {
   "codemirror_mode": {
    "name": "ipython",
    "version": 3
   },
   "file_extension": ".py",
   "mimetype": "text/x-python",
   "name": "python",
   "nbconvert_exporter": "python",
   "pygments_lexer": "ipython3",
   "version": "3.12.7"
  }
 },
 "nbformat": 4,
 "nbformat_minor": 5
}
