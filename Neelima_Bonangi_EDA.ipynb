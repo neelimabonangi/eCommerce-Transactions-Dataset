{
 "cells": [
  {
   "cell_type": "code",
   "execution_count": 5,
   "id": "fd4802b7-9c46-4e4b-8b58-e05f7de255e5",
   "metadata": {},
   "outputs": [],
   "source": [
    "# Step 1: Import Required Libraries\n",
    "import pandas as pd\n",
    "import seaborn as sns\n",
    "import matplotlib.pyplot as plt\n",
    "import numpy as np"
   ]
  },
  {
   "cell_type": "code",
   "execution_count": 360,
   "id": "cce41cea-83bc-438a-b605-bfbdc85cca72",
   "metadata": {},
   "outputs": [],
   "source": [
    "# step 2: Load the datasets\n",
    "dataset = pd.read_csv(r\"C:\\Users\\USER\\Downloads\\Customers.csv\")\n",
    "dataset = pd.read_csv(r\"C:\\Users\\USER\\Downloads\\Products.csv\")\n",
    "dataset = pd.read_csv(r\"C:\\Users\\USER\\Downloads\\Transactions.csv\")"
   ]
  },
  {
   "cell_type": "code",
   "execution_count": 12,
   "id": "4b859bb4-c1fb-4002-b06e-5a294c5c3637",
   "metadata": {},
   "outputs": [
    {
     "data": {
      "text/html": [
       "<div>\n",
       "<style scoped>\n",
       "    .dataframe tbody tr th:only-of-type {\n",
       "        vertical-align: middle;\n",
       "    }\n",
       "\n",
       "    .dataframe tbody tr th {\n",
       "        vertical-align: top;\n",
       "    }\n",
       "\n",
       "    .dataframe thead th {\n",
       "        text-align: right;\n",
       "    }\n",
       "</style>\n",
       "<table border=\"1\" class=\"dataframe\">\n",
       "  <thead>\n",
       "    <tr style=\"text-align: right;\">\n",
       "      <th></th>\n",
       "      <th>CustomerID</th>\n",
       "      <th>CustomerName</th>\n",
       "      <th>Region</th>\n",
       "      <th>SignupDate</th>\n",
       "    </tr>\n",
       "  </thead>\n",
       "  <tbody>\n",
       "    <tr>\n",
       "      <th>0</th>\n",
       "      <td>C0001</td>\n",
       "      <td>Lawrence Carroll</td>\n",
       "      <td>South America</td>\n",
       "      <td>2022-07-10</td>\n",
       "    </tr>\n",
       "    <tr>\n",
       "      <th>1</th>\n",
       "      <td>C0002</td>\n",
       "      <td>Elizabeth Lutz</td>\n",
       "      <td>Asia</td>\n",
       "      <td>2022-02-13</td>\n",
       "    </tr>\n",
       "    <tr>\n",
       "      <th>2</th>\n",
       "      <td>C0003</td>\n",
       "      <td>Michael Rivera</td>\n",
       "      <td>South America</td>\n",
       "      <td>2024-03-07</td>\n",
       "    </tr>\n",
       "    <tr>\n",
       "      <th>3</th>\n",
       "      <td>C0004</td>\n",
       "      <td>Kathleen Rodriguez</td>\n",
       "      <td>South America</td>\n",
       "      <td>2022-10-09</td>\n",
       "    </tr>\n",
       "    <tr>\n",
       "      <th>4</th>\n",
       "      <td>C0005</td>\n",
       "      <td>Laura Weber</td>\n",
       "      <td>Asia</td>\n",
       "      <td>2022-08-15</td>\n",
       "    </tr>\n",
       "  </tbody>\n",
       "</table>\n",
       "</div>"
      ],
      "text/plain": [
       "  CustomerID        CustomerName         Region  SignupDate\n",
       "0      C0001    Lawrence Carroll  South America  2022-07-10\n",
       "1      C0002      Elizabeth Lutz           Asia  2022-02-13\n",
       "2      C0003      Michael Rivera  South America  2024-03-07\n",
       "3      C0004  Kathleen Rodriguez  South America  2022-10-09\n",
       "4      C0005         Laura Weber           Asia  2022-08-15"
      ]
     },
     "execution_count": 12,
     "metadata": {},
     "output_type": "execute_result"
    }
   ],
   "source": [
    "dataset.head()"
   ]
  },
  {
   "cell_type": "code",
   "execution_count": 14,
   "id": "96d87152-b32c-4245-8bd5-c6d19fdc5996",
   "metadata": {},
   "outputs": [
    {
     "data": {
      "text/html": [
       "<div>\n",
       "<style scoped>\n",
       "    .dataframe tbody tr th:only-of-type {\n",
       "        vertical-align: middle;\n",
       "    }\n",
       "\n",
       "    .dataframe tbody tr th {\n",
       "        vertical-align: top;\n",
       "    }\n",
       "\n",
       "    .dataframe thead th {\n",
       "        text-align: right;\n",
       "    }\n",
       "</style>\n",
       "<table border=\"1\" class=\"dataframe\">\n",
       "  <thead>\n",
       "    <tr style=\"text-align: right;\">\n",
       "      <th></th>\n",
       "      <th>CustomerID</th>\n",
       "      <th>CustomerName</th>\n",
       "      <th>Region</th>\n",
       "      <th>SignupDate</th>\n",
       "    </tr>\n",
       "  </thead>\n",
       "  <tbody>\n",
       "    <tr>\n",
       "      <th>195</th>\n",
       "      <td>C0196</td>\n",
       "      <td>Laura Watts</td>\n",
       "      <td>Europe</td>\n",
       "      <td>2022-06-07</td>\n",
       "    </tr>\n",
       "    <tr>\n",
       "      <th>196</th>\n",
       "      <td>C0197</td>\n",
       "      <td>Christina Harvey</td>\n",
       "      <td>Europe</td>\n",
       "      <td>2023-03-21</td>\n",
       "    </tr>\n",
       "    <tr>\n",
       "      <th>197</th>\n",
       "      <td>C0198</td>\n",
       "      <td>Rebecca Ray</td>\n",
       "      <td>Europe</td>\n",
       "      <td>2022-02-27</td>\n",
       "    </tr>\n",
       "    <tr>\n",
       "      <th>198</th>\n",
       "      <td>C0199</td>\n",
       "      <td>Andrea Jenkins</td>\n",
       "      <td>Europe</td>\n",
       "      <td>2022-12-03</td>\n",
       "    </tr>\n",
       "    <tr>\n",
       "      <th>199</th>\n",
       "      <td>C0200</td>\n",
       "      <td>Kelly Cross</td>\n",
       "      <td>Asia</td>\n",
       "      <td>2023-06-11</td>\n",
       "    </tr>\n",
       "  </tbody>\n",
       "</table>\n",
       "</div>"
      ],
      "text/plain": [
       "    CustomerID      CustomerName  Region  SignupDate\n",
       "195      C0196       Laura Watts  Europe  2022-06-07\n",
       "196      C0197  Christina Harvey  Europe  2023-03-21\n",
       "197      C0198       Rebecca Ray  Europe  2022-02-27\n",
       "198      C0199    Andrea Jenkins  Europe  2022-12-03\n",
       "199      C0200       Kelly Cross    Asia  2023-06-11"
      ]
     },
     "execution_count": 14,
     "metadata": {},
     "output_type": "execute_result"
    }
   ],
   "source": [
    "dataset.tail()"
   ]
  },
  {
   "cell_type": "code",
   "execution_count": 16,
   "id": "ec4e562a-b475-47e6-a1bd-b4f5db437687",
   "metadata": {},
   "outputs": [
    {
     "data": {
      "text/plain": [
       "(200, 4)"
      ]
     },
     "execution_count": 16,
     "metadata": {},
     "output_type": "execute_result"
    }
   ],
   "source": [
    "dataset.shape"
   ]
  },
  {
   "cell_type": "code",
   "execution_count": 18,
   "id": "a9fe5803-135f-41dd-bf1a-f2b0fe8ea70c",
   "metadata": {},
   "outputs": [
    {
     "data": {
      "text/plain": [
       "CustomerID      0\n",
       "CustomerName    0\n",
       "Region          0\n",
       "SignupDate      0\n",
       "dtype: int64"
      ]
     },
     "execution_count": 18,
     "metadata": {},
     "output_type": "execute_result"
    }
   ],
   "source": [
    "dataset.isnull().sum()"
   ]
  },
  {
   "cell_type": "code",
   "execution_count": 20,
   "id": "f0edc24a-0706-493a-9791-51e40d92d152",
   "metadata": {},
   "outputs": [
    {
     "data": {
      "text/plain": [
       "<bound method NDFrame.describe of     CustomerID        CustomerName         Region  SignupDate\n",
       "0        C0001    Lawrence Carroll  South America  2022-07-10\n",
       "1        C0002      Elizabeth Lutz           Asia  2022-02-13\n",
       "2        C0003      Michael Rivera  South America  2024-03-07\n",
       "3        C0004  Kathleen Rodriguez  South America  2022-10-09\n",
       "4        C0005         Laura Weber           Asia  2022-08-15\n",
       "..         ...                 ...            ...         ...\n",
       "195      C0196         Laura Watts         Europe  2022-06-07\n",
       "196      C0197    Christina Harvey         Europe  2023-03-21\n",
       "197      C0198         Rebecca Ray         Europe  2022-02-27\n",
       "198      C0199      Andrea Jenkins         Europe  2022-12-03\n",
       "199      C0200         Kelly Cross           Asia  2023-06-11\n",
       "\n",
       "[200 rows x 4 columns]>"
      ]
     },
     "execution_count": 20,
     "metadata": {},
     "output_type": "execute_result"
    }
   ],
   "source": [
    "dataset.describe"
   ]
  },
  {
   "cell_type": "code",
   "execution_count": 22,
   "id": "5df1d61d-c1d5-4f65-b569-e60aea2e6944",
   "metadata": {},
   "outputs": [
    {
     "data": {
      "text/plain": [
       "CustomerID      object\n",
       "CustomerName    object\n",
       "Region          object\n",
       "SignupDate      object\n",
       "dtype: object"
      ]
     },
     "execution_count": 22,
     "metadata": {},
     "output_type": "execute_result"
    }
   ],
   "source": [
    "dataset.dtypes"
   ]
  },
  {
   "cell_type": "code",
   "execution_count": 32,
   "id": "a6bc07dd-db93-43ec-ba6d-44f2444ce59c",
   "metadata": {},
   "outputs": [
    {
     "data": {
      "text/plain": [
       "<Axes: xlabel='CustomerName'>"
      ]
     },
     "execution_count": 32,
     "metadata": {},
     "output_type": "execute_result"
    },
    {
     "data": {
      "image/png": "[encoded data removed]",
      "text/plain": [
       "<Figure size 640x480 with 1 Axes>"
      ]
     },
     "metadata": {},
     "output_type": "display_data"
    }
   ],
   "source": [
    "# step 3: Visualize Data\n",
    "\n",
    "# Numerical features: Use histograms, box plots, or density plots to understand the distribution.\n",
    "dataset['CustomerName'].hist()\n",
    "sns.boxplot(x='CustomerName', data=dataset)"
   ]
  },
  {
   "cell_type": "code",
   "execution_count": 40,
   "id": "ecb40e46-0001-4f92-a060-fec0860c44cc",
   "metadata": {},
   "outputs": [],
   "source": [
    "data = {'Category': ['A', 'B', 'A', 'C', 'B', 'C', 'A']}\n",
    "dataset = pd.DataFrame(data)"
   ]
  },
  {
   "cell_type": "code",
   "execution_count": 42,
   "id": "194ad8cf-a927-4ee9-99aa-d2812adc9175",
   "metadata": {},
   "outputs": [
    {
     "data": {
      "text/plain": [
       "<Axes: xlabel='Category', ylabel='count'>"
      ]
     },
     "execution_count": 42,
     "metadata": {},
     "output_type": "execute_result"
    },
    {
     "data": {
      "image/png": "[encoded data removed]",
      "text/plain": [
       "<Figure size 640x480 with 1 Axes>"
      ]
     },
     "metadata": {},
     "output_type": "display_data"
    }
   ],
   "source": [
    "# Categorical features:\n",
    "sns.countplot(x='Category', data=dataset)"
   ]
  },
  {
   "cell_type": "code",
   "execution_count": 52,
   "id": "136c2db2-e994-4e81-9518-bc2a59dd365e",
   "metadata": {},
   "outputs": [
    {
     "name": "stdout",
     "output_type": "stream",
     "text": [
      "  Category         Region\n",
      "0        A           Asia\n",
      "1        B         Europe\n",
      "2        A           Asia\n",
      "3        C  South America\n",
      "4        B         Europe\n",
      "5        C           Asia\n",
      "6        A  South America\n"
     ]
    }
   ],
   "source": [
    "data = {'Category': ['A', 'B', 'A', 'C', 'B', 'C', 'A'],\n",
    "        'Region': ['Asia', 'Europe', 'Asia', 'South America', 'Europe', 'Asia', 'South America']}\n",
    "\n",
    "dataset = pd.DataFrame(data)\n",
    "print(dataset)\n"
   ]
  },
  {
   "cell_type": "code",
   "execution_count": 56,
   "id": "97581214-ffa9-4ab1-9daf-da7807c885d2",
   "metadata": {},
   "outputs": [
    {
     "data": {
      "text/plain": [
       "<Axes: xlabel='Region', ylabel='count'>"
      ]
     },
     "execution_count": 56,
     "metadata": {},
     "output_type": "execute_result"
    },
    {
     "data": {
      "image/png": "[encoded data removed]",
      "text/plain": [
       "<Figure size 640x480 with 1 Axes>"
      ]
     },
     "metadata": {},
     "output_type": "display_data"
    }
   ],
   "source": [
    "sns.countplot(x='Region', data=dataset)"
   ]
  },
  {
   "cell_type": "code",
   "execution_count": 68,
   "id": "74ea8b86-c738-411d-95b7-45f151b0e5d8",
   "metadata": {},
   "outputs": [
    {
     "name": "stdout",
     "output_type": "stream",
     "text": [
      "Index([], dtype='object')\n"
     ]
    }
   ],
   "source": [
    "print(dataset.select_dtypes(include=['number']).columns)"
   ]
  },
  {
   "cell_type": "code",
   "execution_count": 70,
   "id": "809924de-73d9-409d-9091-305c625485ea",
   "metadata": {},
   "outputs": [
    {
     "name": "stdout",
     "output_type": "stream",
     "text": [
      "Category    object\n",
      "Region      object\n",
      "dtype: object\n"
     ]
    }
   ],
   "source": [
    "print(dataset.dtypes)"
   ]
  },
  {
   "cell_type": "code",
   "execution_count": 82,
   "id": "beca73d9-83a3-40b3-a7fb-2498f461bd7e",
   "metadata": {},
   "outputs": [],
   "source": [
    "numeric_data = dataset.select_dtypes(include=['float64', 'int64'])\n",
    "numeric_data = numeric_data.dropna()\n",
    "numeric_data = numeric_data.fillna(numeric_data.mean())"
   ]
  },
  {
   "cell_type": "code",
   "execution_count": 88,
   "id": "af5b1fba-f115-4102-8be9-2965914157f0",
   "metadata": {},
   "outputs": [
    {
     "name": "stdout",
     "output_type": "stream",
     "text": [
      "(7, 0)\n",
      "No numeric data available for correlation.\n"
     ]
    }
   ],
   "source": [
    "print(numeric_data.shape)\n",
    "\n",
    "if numeric_data.empty:\n",
    "    print(\"No numeric data available for correlation.\")"
   ]
  },
  {
   "cell_type": "code",
   "execution_count": 90,
   "id": "b9f9a57e-6dce-4c27-8a14-66c16e264cb6",
   "metadata": {},
   "outputs": [],
   "source": [
    "# Bivariate analysis:\n",
    "\n",
    "if not numeric_data.empty:\n",
    "    sns.heatmap(numeric_data.corr(), annot=True, cmap='coolwarm')\n",
    "    plt.show()"
   ]
  },
  {
   "cell_type": "code",
   "execution_count": 114,
   "id": "64c12756-9768-403e-9d2d-e5f75c43b154",
   "metadata": {},
   "outputs": [
    {
     "name": "stdout",
     "output_type": "stream",
     "text": [
      "Index(['Category', 'Region'], dtype='object')\n"
     ]
    }
   ],
   "source": [
    "print(dataset.columns)"
   ]
  },
  {
   "cell_type": "code",
   "execution_count": 116,
   "id": "a16544bb-63e0-42e4-be88-000d61ca4cd0",
   "metadata": {},
   "outputs": [],
   "source": [
    "dataset.columns = dataset.columns.str.strip()  "
   ]
  },
  {
   "cell_type": "code",
   "execution_count": 112,
   "id": "ede200b7-104f-4561-ac58-589f5bcd8753",
   "metadata": {},
   "outputs": [
    {
     "data": {
      "image/png": "[encoded data removed]",
      "text/plain": [
       "<Figure size 640x480 with 1 Axes>"
      ]
     },
     "metadata": {},
     "output_type": "display_data"
    }
   ],
   "source": [
    "sns.countplot(x='Category', hue='Region', data=dataset)\n",
    "plt.title('Category Distribution by Region')\n",
    "plt.show()"
   ]
  },
  {
   "cell_type": "code",
   "execution_count": 134,
   "id": "83539089-8962-4300-987a-a0e3d94f4870",
   "metadata": {},
   "outputs": [
    {
     "name": "stdout",
     "output_type": "stream",
     "text": [
      "Category    object\n",
      "Region      object\n",
      "dtype: object\n"
     ]
    }
   ],
   "source": [
    "print(dataset.dtypes)"
   ]
  },
  {
   "cell_type": "code",
   "execution_count": 144,
   "id": "0042c8c2-a2b4-435c-bea3-c76d32b9f6ba",
   "metadata": {},
   "outputs": [
    {
     "name": "stdout",
     "output_type": "stream",
     "text": [
      "Index(['Category', 'Region'], dtype='object')\n"
     ]
    }
   ],
   "source": [
    "print(dataset.columns)\n"
   ]
  },
  {
   "cell_type": "code",
   "execution_count": 164,
   "id": "4308b44d-171f-47dd-b6f2-3bb0d01e87f1",
   "metadata": {},
   "outputs": [],
   "source": [
    "# Identify numeric columns\n",
    "numeric_columns = dataset.select_dtypes(include=['number']).columns\n",
    "\n",
    "# Fill missing values in numeric columns with the mean of each column\n",
    "dataset[numeric_columns] = dataset[numeric_cols].fillna(dataset[numeric_columns].mean())\n",
    "\n",
    "# If needed, handle non-numeric columns (e.g., fill with 'Unknown' for strings)\n",
    "non_numeric_columns = dataset.select_dtypes(exclude=['number']).columns\n",
    "dataset[non_numeric_columns] = dataset[non_numeric_columns].fillna('Unknown')\n",
    "\n",
    "# Optional: Drop rows with NaN values if necessary\n",
    "dataset.dropna(inplace=True)"
   ]
  },
  {
   "cell_type": "code",
   "execution_count": 170,
   "id": "2b54ab94-4aea-4897-9208-dd880f924307",
   "metadata": {},
   "outputs": [
    {
     "name": "stdout",
     "output_type": "stream",
     "text": [
      "  Category         Region\n",
      "0        A           Asia\n",
      "1        B         Europe\n",
      "2        A           Asia\n",
      "3        C  South America\n",
      "4        B         Europe\n"
     ]
    }
   ],
   "source": [
    "print(dataset.head())"
   ]
  },
  {
   "cell_type": "code",
   "execution_count": 172,
   "id": "274b16db-1a25-44eb-8c1c-116602066f01",
   "metadata": {},
   "outputs": [
    {
     "name": "stdout",
     "output_type": "stream",
     "text": [
      "  Category         Region\n",
      "0        A           Asia\n",
      "1        B         Europe\n",
      "2        A           Asia\n",
      "3        C  South America\n",
      "4        B         Europe\n"
     ]
    }
   ],
   "source": [
    "# Step 1: Fill missing values in numeric columns with their mean\n",
    "numeric_columns = dataset.select_dtypes(include=['number']).columns  # Only numeric columns\n",
    "dataset[numeric_columns] = dataset[numeric_cols].fillna(dataset[numeric_cols].mean())\n",
    "\n",
    "# Step 2: Fill missing values in non-numeric columns with a placeholder value\n",
    "non_numeric_columns = dataset.select_dtypes(exclude=['number']).columns  # Non-numeric columns\n",
    "dataset[non_numeric_columns] = dataset[non_numeric_columns].fillna('Unknown')\n",
    "\n",
    "# Step 3: If desired, drop rows with any remaining NaN values\n",
    "dataset.dropna(inplace=True)  # This is optional and depends on your use case\n",
    "\n",
    "# Step 4: Verify the result\n",
    "print(dataset.head())"
   ]
  },
  {
   "cell_type": "code",
   "execution_count": 180,
   "id": "23d9d058-9cff-469d-82cf-b6468c20f412",
   "metadata": {},
   "outputs": [
    {
     "name": "stdout",
     "output_type": "stream",
     "text": [
      "Category    object\n",
      "Region      object\n",
      "dtype: object\n",
      "Non-numeric column: Category\n",
      "['A' 'B' 'C']\n",
      "Non-numeric column: Region\n",
      "['Asia' 'Europe' 'South America']\n"
     ]
    }
   ],
   "source": [
    "# Check column data types\n",
    "print(dataset.dtypes)\n",
    "\n",
    "# Check for non-numeric columns with unexpected data\n",
    "for col in dataset.columns:\n",
    "    if not pd.api.types.is_numeric_dtype(dataset[col]):\n",
    "        print(f\"Non-numeric column: {col}\")\n",
    "        print(dataset[col].unique())  # Print unique values for inspection\n"
   ]
  },
  {
   "cell_type": "code",
   "execution_count": 194,
   "id": "ff6caf39-c6b3-4f1b-94a3-184f8accdf58",
   "metadata": {},
   "outputs": [],
   "source": [
    "dataset['Region'] = dataset['Region'].fillna('NaNs')  # Replace NaNs with 'NaNs'\n",
    "dataset.loc[:, 'Region'] = dataset['Region'].fillna('NaNs')\n"
   ]
  },
  {
   "cell_type": "code",
   "execution_count": 186,
   "id": "9dafe735-44fb-46c2-9f7b-a3ded36f8062",
   "metadata": {},
   "outputs": [
    {
     "name": "stdout",
     "output_type": "stream",
     "text": [
      "Index(['Category', 'Region'], dtype='object')\n",
      "  Category         Region\n",
      "0        A           Asia\n",
      "1        B         Europe\n",
      "2        A           Asia\n",
      "3        C  South America\n",
      "4        B         Europe\n",
      "5        C           Asia\n",
      "6        A  South America\n"
     ]
    }
   ],
   "source": [
    "# Print column names to check\n",
    "print(dataset.columns)\n",
    "\n",
    "# Handle missing values\n",
    "numeric_cols = dataset.select_dtypes(include=['number']).columns\n",
    "non_numeric_cols = dataset.select_dtypes(exclude=['number']).columns\n",
    "\n",
    "# Fill numeric columns with mean\n",
    "dataset[numeric_cols] = dataset[numeric_cols].fillna(dataset[numeric_cols].mean())\n",
    "\n",
    "# Fill non-numeric columns with 'Unknown'\n",
    "dataset[non_numeric_cols] = dataset[non_numeric_cols].fillna('Unknown')\n",
    "\n",
    "# Verify results\n",
    "print(dataset)\n"
   ]
  },
  {
   "cell_type": "code",
   "execution_count": 196,
   "id": "106c0901-11d9-4f72-9fae-83b83bd1dbb7",
   "metadata": {},
   "outputs": [
    {
     "name": "stdout",
     "output_type": "stream",
     "text": [
      "   Region  Sales\n",
      "0    Asia  100.0\n",
      "1    NaNs  200.0\n",
      "2  Europe    NaN\n",
      "3    NaNs  400.0\n"
     ]
    }
   ],
   "source": [
    "# Sample data\n",
    "data = {\n",
    "    'Region': ['Asia', None, 'Europe', None],\n",
    "    'Sales': [100, 200, None, 400]\n",
    "}\n",
    "dataset = pd.DataFrame(data)\n",
    "\n",
    "# Correct way to handle missing values in 'Region'\n",
    "dataset['Region'] = dataset['Region'].fillna('NaNs')\n",
    "\n",
    "print(dataset)\n"
   ]
  },
  {
   "cell_type": "code",
   "execution_count": 200,
   "id": "2427ea4f-a746-4927-a9d6-a4e32230c498",
   "metadata": {},
   "outputs": [
    {
     "name": "stdout",
     "output_type": "stream",
     "text": [
      "0      Asia\n",
      "1      NaNs\n",
      "2    Europe\n",
      "3      NaNs\n",
      "Name: Region, dtype: object\n"
     ]
    }
   ],
   "source": [
    "print(dataset['Region'])  # Replace 'Region' with the actual column name.\n"
   ]
  },
  {
   "cell_type": "code",
   "execution_count": 202,
   "id": "df565dd1-841d-459b-9b63-d970766efa8e",
   "metadata": {},
   "outputs": [
    {
     "name": "stdout",
     "output_type": "stream",
     "text": [
      "object\n"
     ]
    }
   ],
   "source": [
    "print(dataset['Region'].dtype)\n"
   ]
  },
  {
   "cell_type": "code",
   "execution_count": 208,
   "id": "b25bb358-7fa6-47a2-9d13-010bf882aedb",
   "metadata": {},
   "outputs": [],
   "source": [
    "dataset['Region'] = dataset['Region'].fillna(dataset['Region'].mean())\n",
    "# Example for numeric column\n",
    "dataset['Region'] = pd.to_numeric(dataset['Region'], errors='coerce')  # Ensure it's numeric\n",
    "mean_value = dataset['Region'].mean()  # Calculate the mean\n",
    "dataset['Region'] = dataset['Region'].fillna(mean_value)  # Replace NaNs with the mean\n",
    "\n"
   ]
  },
  {
   "cell_type": "code",
   "execution_count": 216,
   "id": "8691f309-d8d8-4c8c-8cfe-2320faf03dfe",
   "metadata": {},
   "outputs": [
    {
     "name": "stdout",
     "output_type": "stream",
     "text": [
      "0   NaN\n",
      "1   NaN\n",
      "2   NaN\n",
      "3   NaN\n",
      "Name: Region, dtype: float64\n",
      "4\n"
     ]
    }
   ],
   "source": [
    "print(dataset['Region'].head(10))\n",
    "print(dataset['Region'].isnull().sum())  # Count of NaN values\n"
   ]
  },
  {
   "cell_type": "code",
   "execution_count": 218,
   "id": "a771dfd8-efcf-47fc-9425-20f3db70239c",
   "metadata": {},
   "outputs": [
    {
     "name": "stdout",
     "output_type": "stream",
     "text": [
      "Series([], Name: Region, dtype: float64)\n"
     ]
    }
   ],
   "source": [
    "print(dataset['Region'].mode())\n"
   ]
  },
  {
   "cell_type": "code",
   "execution_count": 220,
   "id": "53b5c53a-269c-4ed0-b70d-309619f5c5c1",
   "metadata": {},
   "outputs": [
    {
     "name": "stdout",
     "output_type": "stream",
     "text": [
      "No mode found for the 'Region' column. Filling with 'Unknown'.\n"
     ]
    }
   ],
   "source": [
    "if not dataset['Region'].mode().empty:\n",
    "    most_frequent = dataset['Region'].mode()[0]  # Get the most frequent value\n",
    "    dataset['Region'] = dataset['Region'].fillna(most_frequent)\n",
    "else:\n",
    "    print(\"No mode found for the 'Region' column. Filling with 'Unknown'.\")\n",
    "    dataset['Region'] = dataset['Region'].fillna('Unknown')\n"
   ]
  },
  {
   "cell_type": "code",
   "execution_count": 222,
   "id": "775b6611-fd49-49b1-987f-37607b655317",
   "metadata": {},
   "outputs": [],
   "source": [
    "dataset['Region'] = dataset['Region'].fillna('Unknown')\n"
   ]
  },
  {
   "cell_type": "code",
   "execution_count": 224,
   "id": "b94ba196-4275-4768-ad2e-f81519173888",
   "metadata": {},
   "outputs": [
    {
     "name": "stdout",
     "output_type": "stream",
     "text": [
      "Preview of 'Region' column:\n",
      "0    Unknown\n",
      "1    Unknown\n",
      "2    Unknown\n",
      "3    Unknown\n",
      "Name: Region, dtype: object\n",
      "Number of NaN values: 0\n",
      "Filled NaNs with the mode: Unknown\n"
     ]
    }
   ],
   "source": [
    "# Check the column data\n",
    "print(\"Preview of 'Region' column:\")\n",
    "print(dataset['Region'].head(10))\n",
    "\n",
    "# Check if column contains NaNs\n",
    "nan_count = dataset['Region'].isnull().sum()\n",
    "print(f\"Number of NaN values: {nan_count}\")\n",
    "\n",
    "# Handle mode calculation\n",
    "if not dataset['Region'].mode().empty:\n",
    "    most_frequent = dataset['Region'].mode()[0]\n",
    "    dataset['Region'] = dataset['Region'].fillna(most_frequent)\n",
    "    print(f\"Filled NaNs with the mode: {most_frequent}\")\n",
    "else:\n",
    "    print(\"No mode found. Filling with 'Unknown'.\")\n",
    "    dataset['Region'] = dataset['Region'].fillna('Unknown')\n"
   ]
  },
  {
   "cell_type": "code",
   "execution_count": 228,
   "id": "e9dedca1-6eb9-41f9-a5d2-df319fcb3a2e",
   "metadata": {},
   "outputs": [],
   "source": [
    "most_frequent = dataset['Region'].mode()[0]\n",
    "dataset['Region'] = dataset['Region'].fillna(most_frequent)\n",
    "dataset['Region'] = dataset['Region'].fillna('Unknown')\n"
   ]
  },
  {
   "cell_type": "code",
   "execution_count": 230,
   "id": "647561f2-b573-4969-b08f-cecfca89be93",
   "metadata": {},
   "outputs": [
    {
     "name": "stdout",
     "output_type": "stream",
     "text": [
      "object\n"
     ]
    }
   ],
   "source": [
    "# Check data type of the column\n",
    "print(dataset['Region'].dtype)\n",
    "\n",
    "# Handle non-numeric values\n",
    "if dataset['Region'].dtype == 'object':\n",
    "    # Convert to numeric, replacing invalid entries with NaN\n",
    "    dataset['Region'] = pd.to_numeric(dataset['Region'], errors='coerce')\n",
    "\n",
    "# Fill missing values (if column is numeric)\n",
    "if pd.api.types.is_numeric_dtype(dataset['Region']):\n",
    "    mean_value = dataset['Region'].mean()\n",
    "    dataset['Region'] = dataset['Region'].fillna(mean_value)\n",
    "else:\n",
    "    # For non-numeric, fill with 'Unknown' or the mode\n",
    "    dataset['Region'] = dataset['Region'].fillna('Unknown')\n"
   ]
  },
  {
   "cell_type": "code",
   "execution_count": 232,
   "id": "883ab6b2-b893-442b-ba3e-d2512431b80f",
   "metadata": {},
   "outputs": [],
   "source": [
    "# step 4: Data cleaning\n",
    "\n",
    "dataset.fillna(dataset.mean(), inplace=True)  \n",
    "dataset.dropna(inplace=True)"
   ]
  },
  {
   "cell_type": "code",
   "execution_count": 248,
   "id": "0d663d56-0109-4450-8bff-7d8914590a36",
   "metadata": {},
   "outputs": [
    {
     "name": "stdout",
     "output_type": "stream",
     "text": [
      "Region    float64\n",
      "Sales     float64\n",
      "dtype: object\n",
      "[]\n"
     ]
    }
   ],
   "source": [
    "# Check the data types of columns\n",
    "print(dataset.dtypes)\n",
    "\n",
    "# Check if 'Sales' column has non-numeric values\n",
    "print(dataset['Sales'].unique())\n"
   ]
  },
  {
   "cell_type": "code",
   "execution_count": 258,
   "id": "d5e7013b-8965-495e-9331-87740b66d157",
   "metadata": {},
   "outputs": [],
   "source": [
    "# Convert non-numeric values to NaN and then fill or drop them\n",
    "dataset['Sales'] = pd.to_numeric(dataset['Sales'], errors='coerce')\n",
    "dataset['Sales'] = dataset['Sales'].fillna(dataset['Sales'].mean())  # Or use dropna if you'd rather remove them\n"
   ]
  },
  {
   "cell_type": "code",
   "execution_count": 262,
   "id": "4a4066a4-c1f6-4d5a-83ec-4edb466fa063",
   "metadata": {},
   "outputs": [
    {
     "name": "stdout",
     "output_type": "stream",
     "text": [
      "0\n"
     ]
    }
   ],
   "source": [
    "print(dataset['Sales'].isnull().sum())  # Check if there are any missing values\n"
   ]
  },
  {
   "cell_type": "code",
   "execution_count": 264,
   "id": "d16f5581-5647-46c9-b65d-7d65dd0452e0",
   "metadata": {},
   "outputs": [
    {
     "name": "stdout",
     "output_type": "stream",
     "text": [
      "0\n"
     ]
    }
   ],
   "source": [
    "print(len(dataset['Sales']))  # Check the number of values in the 'Sales' column\n"
   ]
  },
  {
   "cell_type": "code",
   "execution_count": 272,
   "id": "591ec33c-485f-40a0-b9a5-138c9ffadf4f",
   "metadata": {},
   "outputs": [
    {
     "name": "stdout",
     "output_type": "stream",
     "text": [
      "0\n"
     ]
    }
   ],
   "source": [
    "print(len(dataset))  # Check the number of rows in the dataset\n"
   ]
  },
  {
   "cell_type": "code",
   "execution_count": 280,
   "id": "d5c4f3b3-7be8-4245-be53-2c5a18dbd80e",
   "metadata": {},
   "outputs": [
    {
     "name": "stdout",
     "output_type": "stream",
     "text": [
      "(0, 1)\n"
     ]
    }
   ],
   "source": [
    "print(dataset[['Sales']].shape)  # Verify if 'Sales' has rows\n"
   ]
  },
  {
   "cell_type": "code",
   "execution_count": 282,
   "id": "ab473202-575a-47d3-b31b-2af6178aec2c",
   "metadata": {},
   "outputs": [
    {
     "name": "stdout",
     "output_type": "stream",
     "text": [
      "Series([], Name: Sales, dtype: float64)\n"
     ]
    }
   ],
   "source": [
    "print(dataset['Sales'].head())  # Check the first few rows of the 'Sales' column\n"
   ]
  },
  {
   "cell_type": "code",
   "execution_count": 288,
   "id": "7882f6aa-2985-49ab-a268-d015d0af4f6d",
   "metadata": {},
   "outputs": [
    {
     "name": "stdout",
     "output_type": "stream",
     "text": [
      "Index(['Region', 'Sales'], dtype='object')\n"
     ]
    }
   ],
   "source": [
    "print(dataset.columns)  # Confirm if 'Sales' is still part of the dataset\n"
   ]
  },
  {
   "cell_type": "code",
   "execution_count": 292,
   "id": "6f40b30c-f3b3-4749-8610-e9358acdb45e",
   "metadata": {},
   "outputs": [
    {
     "name": "stdout",
     "output_type": "stream",
     "text": [
      "(0,)\n"
     ]
    }
   ],
   "source": [
    "# Check if the 'Sales' column has any valid data\n",
    "print(dataset['Sales'].dropna().shape)\n"
   ]
  },
  {
   "cell_type": "code",
   "execution_count": 298,
   "id": "e447f70d-c195-4464-8464-d7c89c715877",
   "metadata": {},
   "outputs": [
    {
     "name": "stdout",
     "output_type": "stream",
     "text": [
      "[]\n",
      "(0, 1)\n"
     ]
    }
   ],
   "source": [
    "sales_data = dataset['Sales'].dropna().values.reshape(-1, 1)  # Remove NaN and reshape to 2D\n",
    "print(sales_data[:10])  # Display the first 10 values\n",
    "\n",
    "# Check shape after reshaping\n",
    "print(sales_data.shape)\n"
   ]
  },
  {
   "cell_type": "code",
   "execution_count": 300,
   "id": "008a2f59-1ff9-4201-a8e0-3f16f01213f4",
   "metadata": {},
   "outputs": [
    {
     "name": "stdout",
     "output_type": "stream",
     "text": [
      "Missing values in 'Sales': 0\n"
     ]
    }
   ],
   "source": [
    "print(f\"Missing values in 'Sales': {dataset['Sales'].isna().sum()}\")\n"
   ]
  },
  {
   "cell_type": "code",
   "execution_count": 302,
   "id": "d173d88c-5cfd-4a59-94e3-9d4765e3af56",
   "metadata": {},
   "outputs": [
    {
     "name": "stdout",
     "output_type": "stream",
     "text": [
      "(0, 2)\n"
     ]
    }
   ],
   "source": [
    "print(dataset.shape)  # Check if there are rows in the dataset\n"
   ]
  },
  {
   "cell_type": "code",
   "execution_count": 306,
   "id": "c497ecdc-f9a5-485f-af3e-2875f1232a97",
   "metadata": {},
   "outputs": [
    {
     "name": "stdout",
     "output_type": "stream",
     "text": [
      "0\n"
     ]
    }
   ],
   "source": [
    "print(dataset['Sales'].isna().sum())  # Count missing values in 'Sales'\n"
   ]
  },
  {
   "cell_type": "code",
   "execution_count": 308,
   "id": "609c4f64-d37f-44f4-a346-d9625fd1a21a",
   "metadata": {},
   "outputs": [
    {
     "name": "stdout",
     "output_type": "stream",
     "text": [
      "Series([], Name: Sales, dtype: float64)\n"
     ]
    }
   ],
   "source": [
    "print(dataset['Sales'].head())  # Print first few rows of the 'Sales' column\n"
   ]
  },
  {
   "cell_type": "code",
   "execution_count": 312,
   "id": "89a7d8a7-1b97-4a03-8a98-a79f615352e1",
   "metadata": {},
   "outputs": [],
   "source": [
    "dataset['Sales'] = dataset['Sales'].replace(np.nan, 0)  # Replace NaN with 0 or any other value\n",
    "dataset['Sales'] = dataset['Sales'].fillna(dataset['Sales'].mean())  # Replace NaN with mean of 'Sales'"
   ]
  },
  {
   "cell_type": "code",
   "execution_count": 320,
   "id": "5c263cd7-f158-4878-a23d-8b96b9888c1b",
   "metadata": {},
   "outputs": [
    {
     "name": "stdout",
     "output_type": "stream",
     "text": [
      "0\n",
      "Series([], Name: Sales, dtype: float64)\n",
      "(0, 2)\n"
     ]
    }
   ],
   "source": [
    "print(dataset['Sales'].isna().sum())  # Count missing values in 'Sales'\n",
    "print(dataset['Sales'].head())  # View first few entries in the 'Sales' column\n",
    "print(dataset.shape)  # Confirm dataset has rows and columns\n"
   ]
  },
  {
   "cell_type": "code",
   "execution_count": null,
   "id": "49cdad8a-294d-4ff8-9bc3-52a3475a7c0c",
   "metadata": {},
   "outputs": [],
   "source": []
  }
 ],
 "metadata": {
  "kernelspec": {
   "display_name": "Python 3 (ipykernel)",
   "language": "python",
   "name": "python3"
  },
  "language_info": {
   "codemirror_mode": {
    "name": "ipython",
    "version": 3
   },
   "file_extension": ".py",
   "mimetype": "text/x-python",
   "name": "python",
   "nbconvert_exporter": "python",
   "pygments_lexer": "ipython3",
   "version": "3.12.7"
  }
 },
 "nbformat": 4,
 "nbformat_minor": 5
}
