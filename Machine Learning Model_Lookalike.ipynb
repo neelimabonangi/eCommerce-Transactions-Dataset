{
 "cells": [
  {
   "cell_type": "code",
   "execution_count": 1,
   "id": "d4bb20f0-a5a3-42de-8a46-529e9089cf68",
   "metadata": {},
   "outputs": [],
   "source": [
    "# Step 1: Import Required Libraries\n",
    "\n",
    "import pandas as pd\n",
    "from sklearn.preprocessing import StandardScaler\n",
    "from sklearn.metrics.pairwise import cosine_similarity"
   ]
  },
  {
   "cell_type": "code",
   "execution_count": 20,
   "id": "ca5d8e42-87c4-4670-b81e-f797626f285b",
   "metadata": {},
   "outputs": [
    {
     "name": "stdout",
     "output_type": "stream",
     "text": [
      "True\n",
      "True\n",
      "True\n"
     ]
    }
   ],
   "source": [
    "import os\n",
    "\n",
    "# Check if files exist at the specified paths\n",
    "print(os.path.exists(r\"C:\\Users\\USER\\Downloads\\Customers.csv\"))  # Should print True if the file exists\n",
    "print(os.path.exists(r\"C:\\Users\\USER\\Downloads\\Products.csv\"))\n",
    "print(os.path.exists(r\"C:\\Users\\USER\\Downloads\\Transactions.csv\"))\n"
   ]
  },
  {
   "cell_type": "code",
   "execution_count": 26,
   "id": "48db4620-b4a6-41cc-8b33-dca64070694f",
   "metadata": {},
   "outputs": [
    {
     "name": "stdout",
     "output_type": "stream",
     "text": [
      "  CustomerID        CustomerName         Region  SignupDate\n",
      "0      C0001    Lawrence Carroll  South America  2022-07-10\n",
      "1      C0002      Elizabeth Lutz           Asia  2022-02-13\n",
      "2      C0003      Michael Rivera  South America  2024-03-07\n",
      "3      C0004  Kathleen Rodriguez  South America  2022-10-09\n",
      "4      C0005         Laura Weber           Asia  2022-08-15\n",
      "  ProductID              ProductName     Category   Price\n",
      "0      P001     ActiveWear Biography        Books  169.30\n",
      "1      P002    ActiveWear Smartwatch  Electronics  346.30\n",
      "2      P003  ComfortLiving Biography        Books   44.12\n",
      "3      P004            BookWorld Rug   Home Decor   95.69\n",
      "4      P005          TechPro T-Shirt     Clothing  429.31\n",
      "  TransactionID CustomerID ProductID      TransactionDate  Quantity  \\\n",
      "0        T00001      C0199      P067  2024-08-25 12:38:23         1   \n",
      "1        T00112      C0146      P067  2024-05-27 22:23:54         1   \n",
      "2        T00166      C0127      P067  2024-04-25 07:38:55         1   \n",
      "3        T00272      C0087      P067  2024-03-26 22:55:37         2   \n",
      "4        T00363      C0070      P067  2024-03-21 15:10:10         3   \n",
      "\n",
      "   TotalValue   Price  \n",
      "0      300.68  300.68  \n",
      "1      300.68  300.68  \n",
      "2      300.68  300.68  \n",
      "3      601.36  300.68  \n",
      "4      902.04  300.68  \n"
     ]
    }
   ],
   "source": [
    "import pandas as pd\n",
    "\n",
    "# Step 2: Load the datasets with correct paths\n",
    "\n",
    "customers = pd.read_csv(r\"C:\\Users\\USER\\Downloads\\Customers.csv\")\n",
    "products = pd.read_csv(r\"C:\\Users\\USER\\Downloads\\Products.csv\")\n",
    "transactions = pd.read_csv(r\"C:\\Users\\USER\\Downloads\\Transactions.csv\")\n",
    "\n",
    "# step 3: Data Preprocessing\n",
    "\n",
    "# Print first few rows of each dataset to verify\n",
    "print(customers.head())\n",
    "print(products.head())\n",
    "print(transactions.head())\n"
   ]
  },
  {
   "cell_type": "code",
   "execution_count": 28,
   "id": "0dfd6bcd-44c2-4b57-bcc9-85f2a742947e",
   "metadata": {},
   "outputs": [],
   "source": [
    "# Drop rows with missing values (if any)\n",
    "customers.dropna(inplace=True)\n",
    "products.dropna(inplace=True)\n",
    "transactions.dropna(inplace=True)\n"
   ]
  },
  {
   "cell_type": "code",
   "execution_count": 30,
   "id": "44ea5df8-94a5-477a-9d7f-f20bcaf8b831",
   "metadata": {},
   "outputs": [
    {
     "name": "stdout",
     "output_type": "stream",
     "text": [
      "  TransactionID CustomerID ProductID      TransactionDate  Quantity  \\\n",
      "0        T00001      C0199      P067  2024-08-25 12:38:23         1   \n",
      "1        T00112      C0146      P067  2024-05-27 22:23:54         1   \n",
      "2        T00166      C0127      P067  2024-04-25 07:38:55         1   \n",
      "3        T00272      C0087      P067  2024-03-26 22:55:37         2   \n",
      "4        T00363      C0070      P067  2024-03-21 15:10:10         3   \n",
      "\n",
      "   TotalValue   Price     CustomerName         Region  SignupDate  \n",
      "0      300.68  300.68   Andrea Jenkins         Europe  2022-12-03  \n",
      "1      300.68  300.68  Brittany Harvey           Asia  2024-09-04  \n",
      "2      300.68  300.68  Kathryn Stevens         Europe  2024-04-04  \n",
      "3      601.36  300.68  Travis Campbell  South America  2024-04-11  \n",
      "4      902.04  300.68    Timothy Perez         Europe  2022-03-15  \n"
     ]
    }
   ],
   "source": [
    "# Merge customer data with transaction data on CustomerID\n",
    "merged_data = pd.merge(transactions, customers, on=\"CustomerID\", how=\"left\")\n",
    "\n",
    "# Check the merged data\n",
    "print(merged_data.head())\n"
   ]
  },
  {
   "cell_type": "code",
   "execution_count": 32,
   "id": "e3244942-8029-4c1e-a672-006588755ddf",
   "metadata": {},
   "outputs": [
    {
     "name": "stdout",
     "output_type": "stream",
     "text": [
      "ProductID   P001  P002  P003  P004  P005  P006  P007  P008  P009  P010  ...  \\\n",
      "CustomerID                                                              ...   \n",
      "C0001          0     0     0     0     0     0     0     0     0     0  ...   \n",
      "C0002          0     0     0     4     0     0     0     0     0     0  ...   \n",
      "C0003          0     4     0     0     0     3     0     0     0     0  ...   \n",
      "C0004          0     0     0     0     0     0     0     2     0     0  ...   \n",
      "C0005          0     0     0     0     0     0     0     0     0     0  ...   \n",
      "\n",
      "ProductID   P091  P092  P093  P094  P095  P096  P097  P098  P099  P100  \n",
      "CustomerID                                                              \n",
      "C0001          0     0     0     0     0     2     0     0     0     0  \n",
      "C0002          0     0     0     0     2     0     0     0     0     0  \n",
      "C0003          0     0     0     0     0     0     0     0     0     0  \n",
      "C0004          0     0     0     0     0     0     3     0     0     0  \n",
      "C0005          0     0     0     0     0     0     0     0     0     0  \n",
      "\n",
      "[5 rows x 100 columns]\n"
     ]
    }
   ],
   "source": [
    "# step 4: Feature Engineering\n",
    "\n",
    "# Create a customer-product matrix (using product quantity as interaction measure)\n",
    "transaction_matrix = pd.pivot_table(merged_data, values=\"Quantity\", index=\"CustomerID\", columns=\"ProductID\", aggfunc=\"sum\", fill_value=0)\n",
    "\n",
    "# Print the first few rows of the matrix\n",
    "print(transaction_matrix.head())\n"
   ]
  },
  {
   "cell_type": "code",
   "execution_count": 34,
   "id": "aa26386f-2b0e-47ef-9029-3abec2b9eaf2",
   "metadata": {},
   "outputs": [
    {
     "name": "stdout",
     "output_type": "stream",
     "text": [
      "CustomerID  C0001  C0002     C0003     C0004     C0005  C0006     C0007  \\\n",
      "CustomerID                                                                \n",
      "C0001         1.0    0.0  0.000000  0.000000  0.000000    0.0  0.214834   \n",
      "C0002         0.0    1.0  0.000000  0.000000  0.000000    0.0  0.000000   \n",
      "C0003         0.0    0.0  1.000000  0.097980  0.308697    0.0  0.000000   \n",
      "C0004         0.0    0.0  0.097980  1.000000  0.168034    0.0  0.000000   \n",
      "C0005         0.0    0.0  0.308697  0.168034  1.000000    0.0  0.000000   \n",
      "\n",
      "CustomerID     C0008  C0009     C0010  ...     C0191     C0192  C0193  \\\n",
      "CustomerID                             ...                              \n",
      "C0001       0.000000    0.0  0.000000  ...  0.061721  0.000000    0.0   \n",
      "C0002       0.262071    0.0  0.000000  ...  0.000000  0.000000    0.0   \n",
      "C0003       0.313786    0.0  0.000000  ...  0.000000  0.000000    0.0   \n",
      "C0004       0.048038    0.0  0.149854  ...  0.000000  0.000000    0.0   \n",
      "C0005       0.000000    0.0  0.000000  ...  0.000000  0.325396    0.0   \n",
      "\n",
      "CustomerID     C0194  C0195  C0196  C0197  C0198     C0199  C0200  \n",
      "CustomerID                                                         \n",
      "C0001       0.469668    0.0    0.0    0.0    0.0  0.438178    0.0  \n",
      "C0002       0.000000    0.0    0.0    0.0    0.0  0.000000    0.0  \n",
      "C0003       0.000000    0.0    0.0    0.0    0.0  0.000000    0.0  \n",
      "C0004       0.079212    0.0    0.0    0.0    0.0  0.092376    0.0  \n",
      "C0005       0.083189    0.0    0.0    0.0    0.0  0.000000    0.0  \n",
      "\n",
      "[5 rows x 199 columns]\n"
     ]
    }
   ],
   "source": [
    "# step 5: Model Development: Compute Similarity\n",
    "\n",
    "from sklearn.metrics.pairwise import cosine_similarity\n",
    "\n",
    "# Compute the cosine similarity between customers\n",
    "cosine_sim = cosine_similarity(transaction_matrix)\n",
    "\n",
    "# Convert the cosine similarity matrix into a DataFrame\n",
    "cosine_sim_df = pd.DataFrame(cosine_sim, index=transaction_matrix.index, columns=transaction_matrix.index)\n",
    "\n",
    "# Check the similarity matrix\n",
    "print(cosine_sim_df.head())\n"
   ]
  },
  {
   "cell_type": "code",
   "execution_count": 43,
   "id": "78fa007b-7102-41e7-9956-5e1dd2f728a1",
   "metadata": {},
   "outputs": [
    {
     "name": "stdout",
     "output_type": "stream",
     "text": [
      "Index(['C0001', 'C0002', 'C0003', 'C0004', 'C0005', 'C0006', 'C0007', 'C0008',\n",
      "       'C0009', 'C0010',\n",
      "       ...\n",
      "       'C0191', 'C0192', 'C0193', 'C0194', 'C0195', 'C0196', 'C0197', 'C0198',\n",
      "       'C0199', 'C0200'],\n",
      "      dtype='object', name='CustomerID', length=199)\n"
     ]
    }
   ],
   "source": [
    "print(cosine_sim_df.index)  # Print out the indices (customer IDs) in the similarity matrix\n"
   ]
  },
  {
   "cell_type": "code",
   "execution_count": 67,
   "id": "b7e34add-39e8-4e00-8d61-3d38b7c77963",
   "metadata": {},
   "outputs": [
    {
     "name": "stdout",
     "output_type": "stream",
     "text": [
      "['C0001', 'C0002', 'C0003', 'C0004', 'C0005', 'C0006', 'C0007', 'C0008', 'C0009', 'C0010', 'C0011', 'C0012', 'C0013', 'C0014', 'C0015', 'C0016', 'C0017', 'C0018', 'C0019', 'C0020', 'C0021', 'C0022', 'C0023', 'C0024', 'C0025', 'C0026', 'C0027', 'C0028', 'C0029', 'C0030', 'C0031', 'C0032', 'C0033', 'C0034', 'C0035', 'C0036', 'C0037', 'C0038', 'C0039', 'C0040', 'C0041', 'C0042', 'C0043', 'C0044', 'C0045', 'C0046', 'C0047', 'C0048', 'C0049', 'C0050', 'C0051', 'C0052', 'C0053', 'C0054', 'C0055', 'C0056', 'C0057', 'C0058', 'C0059', 'C0060', 'C0061', 'C0062', 'C0063', 'C0064', 'C0065', 'C0066', 'C0067', 'C0068', 'C0069', 'C0070', 'C0071', 'C0072', 'C0073', 'C0074', 'C0075', 'C0076', 'C0077', 'C0078', 'C0079', 'C0080', 'C0081', 'C0082', 'C0083', 'C0084', 'C0085', 'C0086', 'C0087', 'C0088', 'C0089', 'C0090', 'C0091', 'C0092', 'C0093', 'C0094', 'C0095', 'C0096', 'C0097', 'C0098', 'C0099', 'C0100', 'C0101', 'C0102', 'C0103', 'C0104', 'C0105', 'C0106', 'C0107', 'C0108', 'C0109', 'C0110', 'C0111', 'C0112', 'C0113', 'C0114', 'C0115', 'C0116', 'C0117', 'C0118', 'C0119', 'C0120', 'C0121', 'C0122', 'C0123', 'C0124', 'C0125', 'C0126', 'C0127', 'C0128', 'C0129', 'C0130', 'C0131', 'C0132', 'C0133', 'C0134', 'C0135', 'C0136', 'C0137', 'C0138', 'C0139', 'C0140', 'C0141', 'C0142', 'C0143', 'C0144', 'C0145', 'C0146', 'C0147', 'C0148', 'C0149', 'C0150', 'C0151', 'C0152', 'C0153', 'C0154', 'C0155', 'C0156', 'C0157', 'C0158', 'C0159', 'C0160', 'C0161', 'C0162', 'C0163', 'C0164', 'C0165', 'C0166', 'C0167', 'C0168', 'C0169', 'C0170', 'C0171', 'C0172', 'C0173', 'C0174', 'C0175', 'C0176', 'C0177', 'C0178', 'C0179', 'C0181', 'C0182', 'C0183', 'C0184', 'C0185', 'C0186', 'C0187', 'C0188', 'C0189', 'C0190', 'C0191', 'C0192', 'C0193', 'C0194', 'C0195', 'C0196', 'C0197', 'C0198', 'C0199', 'C0200']\n"
     ]
    }
   ],
   "source": [
    "# Output the list of customer IDs in the DataFrame index\n",
    "print(cosine_sim_df.index.tolist())"
   ]
  },
  {
   "cell_type": "code",
   "execution_count": 75,
   "id": "c7dae0b5-61ec-463b-bd8f-3b050c13e06f",
   "metadata": {},
   "outputs": [
    {
     "name": "stdout",
     "output_type": "stream",
     "text": [
      "CustomerID\n",
      "C0042    0.436436\n",
      "C0162    0.400892\n",
      "C0130    0.377964\n",
      "Name: C0155, dtype: float64\n"
     ]
    }
   ],
   "source": [
    "customer_id = 'C0155'  # Replace with a valid ID from the list\n",
    "top_lookalikes = get_top_lookalikes(customer_id)\n",
    "print(top_lookalikes)\n"
   ]
  },
  {
   "cell_type": "code",
   "execution_count": 81,
   "id": "f95b58ae-d422-4f8b-a783-bf3a9911d468",
   "metadata": {},
   "outputs": [
    {
     "name": "stdout",
     "output_type": "stream",
     "text": [
      "CustomerID\n",
      "C0042    0.436436\n",
      "C0162    0.400892\n",
      "C0130    0.377964\n",
      "Name: C0155, dtype: float64\n"
     ]
    }
   ],
   "source": [
    "from sklearn.metrics.pairwise import cosine_similarity\n",
    "cosine_sim = cosine_similarity(transaction_matrix)\n",
    "cosine_sim_df = pd.DataFrame(cosine_sim, index=transaction_matrix.index, columns=transaction_matrix.index)\n",
    "\n",
    "def get_top_lookalikes(customer_id, top_n=3):\n",
    "    sim_scores = cosine_sim_df.loc[customer_id]\n",
    "    similar_customers = sim_scores.drop(customer_id).sort_values(ascending=False)\n",
    "    return similar_customers.head(top_n)\n",
    "customer_id = 'C0155'  # Example customer ID\n",
    "top_lookalikes = get_top_lookalikes(customer_id)\n",
    "print(top_lookalikes)          "
   ]
  },
  {
   "cell_type": "code",
   "execution_count": 93,
   "id": "b27607e5-f3e6-43dc-842e-a356ff72cdab",
   "metadata": {},
   "outputs": [],
   "source": [
    " # step 6: Generate Lookalike Recommendations\n",
    "\n",
    "lookalikes = {}\n",
    "\n",
    "# For each customer (C0001 to C0020), find top 3 lookalikes\n",
    "for cust_id in ['C0001', 'C0002', 'C0003', 'C0004', 'C0005', 'C0006', 'C0007', 'C0008', 'C0009', 'C0010',\n",
    "                'C0011', 'C0012', 'C0013', 'C0014', 'C0015', 'C0016', 'C0017', 'C0018', 'C0019', 'C0020']:\n",
    "    # Get similarity scores for the customer and sort them in descending order\n",
    "    similar_scores = cosine_sim_df[cust_id].sort_values(ascending=False).iloc[1:4]  # Exclude the customer itself\n",
    "    lookalikes[cust_id] = list(zip(similar_scores.index, similar_scores.values))\n",
    "\n",
    "# Convert lookalikes to a DataFrame\n",
    "lookalike_df = pd.DataFrame(list(lookalikes.items()), columns=['cust_id', 'lookalikes'])\n",
    "\n",
    "# Save the results to Lookalike.csv\n",
    "lookalike_df.to_csv('Lookalike.csv', index=False)\n"
   ]
  },
  {
   "cell_type": "code",
   "execution_count": 97,
   "id": "f6914ae9-ab14-4388-a07c-4dff4ab65ddc",
   "metadata": {},
   "outputs": [
    {
     "name": "stdout",
     "output_type": "stream",
     "text": [
      "{'C0001': [('C0005', 0.95), ('C0002', 0.92), ('C0003', 0.91)], 'C0002': [('C0001', 0.92), ('C0004', 0.89), ('C0003', 0.88)], 'C0003': [('C0001', 0.91), ('C0005', 0.87), ('C0004', 0.85)]}\n"
     ]
    }
   ],
   "source": [
    "# Step 7: Output Format of Lookalike.csv:\n",
    "\n",
    "lookalikes = {\n",
    "    'C0001': [('C0005', 0.95), ('C0002', 0.92), ('C0003', 0.91)],\n",
    "    'C0002': [('C0001', 0.92), ('C0004', 0.89), ('C0003', 0.88)],\n",
    "    'C0003': [('C0001', 0.91), ('C0005', 0.87), ('C0004', 0.85)],\n",
    "}\n",
    "\n",
    "# Print the lookalikes dictionary to check\n",
    "print(lookalikes)\n"
   ]
  }
 ],
 "metadata": {
  "kernelspec": {
   "display_name": "Python 3 (ipykernel)",
   "language": "python",
   "name": "python3"
  },
  "language_info": {
   "codemirror_mode": {
    "name": "ipython",
    "version": 3
   },
   "file_extension": ".py",
   "mimetype": "text/x-python",
   "name": "python",
   "nbconvert_exporter": "python",
   "pygments_lexer": "ipython3",
   "version": "3.12.7"
  }
 },
 "nbformat": 4,
 "nbformat_minor": 5
}
